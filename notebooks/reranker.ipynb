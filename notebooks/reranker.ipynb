{
 "cells": [
  {
   "cell_type": "markdown",
   "metadata": {
    "id": "FZ6sj8gPDhG4"
   },
   "source": [
    "# Rerankers"
   ]
  },
  {
   "cell_type": "markdown",
   "metadata": {
    "id": "h8o5TRVfDhG4"
   },
   "source": [
    "Jay Urbain, PhD\n",
    "8/22/2024, 3/13/2025\n",
    "\n",
    "Rerankers add a final \"reranking\" step to retrieval pipelines. Like with **R**etrieval **A**ugmented **G**eneration (RAG), they can be used to dramatically optimize retrieval pipelines and improve their accuracy.\n",
    "\n",
    "Create retrieval pipelines with reranking using the [Cohere reranking model](https://txt.cohere.com/rerank/) (which is available for free).\n",
    "\n",
    "References:  \n",
    "\n",
    "https://docs.cohere.com/docs/overview \n",
    "\n",
    "\n",
    "https://www.pinecone.io/learn/series/rag/rerankers/"
   ]
  },
  {
   "cell_type": "code",
   "execution_count": 1,
   "metadata": {},
   "outputs": [],
   "source": [
    "# !pip install -qU datasets\n",
    "# !pip install -qU openai\n",
    "# !pip install -qU pinecone-client"
   ]
  },
  {
   "cell_type": "code",
   "execution_count": 1,
   "metadata": {},
   "outputs": [],
   "source": [
    "!pip install -qU \\\n",
    "    datasets==2.14.5 \\\n",
    "    \"pinecone[grpc]\"==5.1.0"
   ]
  },
  {
   "cell_type": "code",
   "execution_count": 2,
   "metadata": {
    "id": "thtg9njP4bOh"
   },
   "outputs": [],
   "source": [
    "# !pip install -qU \\\n",
    "#     datasets==2.14.5 \\\n",
    "#     openai==1.6.1 \\\n",
    "#     pinecone-client==3.1.0 \\\n",
    "#     cohere==4.27"
   ]
  },
  {
   "cell_type": "code",
   "execution_count": null,
   "metadata": {},
   "outputs": [],
   "source": [
    "PINECONE_API_KEY = \"xxx\" or getpass(\"Pinecone API key: \")\n"
   ]
  },
  {
   "cell_type": "markdown",
   "metadata": {},
   "source": [
    "### Ranking Metrics"
   ]
  },
  {
   "cell_type": "code",
   "execution_count": 5,
   "metadata": {},
   "outputs": [
    {
     "name": "stdout",
     "output_type": "stream",
     "text": [
      "Recall@1 = 0.0\n",
      "Recall@2 = 0.25\n",
      "Recall@3 = 0.25\n",
      "Recall@4 = 0.5\n",
      "Recall@5 = 0.75\n",
      "Recall@6 = 0.75\n",
      "Recall@7 = 1.0\n",
      "Recall@8 = 1.0\n"
     ]
    }
   ],
   "source": [
    "# recall@k function\n",
    "def recall(actual, predicted, k):\n",
    "    act_set = set(actual)\n",
    "    pred_set = set(predicted[:k])\n",
    "    result = round(len(act_set & pred_set) / float(len(act_set)), 2)\n",
    "    return result\n",
    "\n",
    "actual = [\"2\", \"4\", \"5\", \"7\"]\n",
    "predicted = [\"1\", \"2\", \"3\", \"4\", \"5\", \"6\", \"7\", \"8\"]\n",
    "for k in range(1, 9):\n",
    "    print(f\"Recall@{k} = {recall(actual, predicted, k)}\")"
   ]
  },
  {
   "cell_type": "code",
   "execution_count": 6,
   "metadata": {},
   "outputs": [
    {
     "name": "stdout",
     "output_type": "stream",
     "text": [
      "query #1 = 1/2 = 0.5\n",
      "query #2 = 1/1 = 1.0\n",
      "query #3 = 1/5 = 0.2\n",
      "MRR = 0.57\n"
     ]
    }
   ],
   "source": [
    "# Mean recipricol rank\n",
    "\n",
    "# relevant results for query #1, #2, and #3\n",
    "actual_relevant = [\n",
    "    [2, 4, 5, 7],\n",
    "    [1, 4, 5, 7],\n",
    "    [5, 8]\n",
    "]\n",
    "\n",
    "# number of queries\n",
    "Q = len(actual_relevant)\n",
    "\n",
    "# calculate the reciprocal of the first actual relevant rank\n",
    "cumulative_reciprocal = 0\n",
    "for i in range(Q):\n",
    "    first_result = actual_relevant[i][0]\n",
    "    reciprocal = 1 / first_result\n",
    "    cumulative_reciprocal += reciprocal\n",
    "    print(f\"query #{i+1} = 1/{first_result} = {reciprocal}\")\n",
    "\n",
    "# calculate mrr\n",
    "mrr = 1/Q * cumulative_reciprocal\n",
    "\n",
    "# generate results\n",
    "print(\"MRR =\", round(mrr,2))"
   ]
  },
  {
   "cell_type": "code",
   "execution_count": 7,
   "metadata": {},
   "outputs": [
    {
     "name": "stdout",
     "output_type": "stream",
     "text": [
      "AP@8_1 = 0.54\n",
      "AP@8_2 = 0.67\n",
      "AP@8_3 = 0.23\n",
      "mAP@8 = 0.48\n"
     ]
    }
   ],
   "source": [
    "# mean average precision\n",
    "\n",
    "# initialize variables\n",
    "actual = [\n",
    "    [2, 4, 5, 7],\n",
    "    [1, 4, 5, 7],\n",
    "    [5, 8]\n",
    "]\n",
    "Q = len(actual)\n",
    "predicted = [1, 2, 3, 4, 5, 6, 7, 8]\n",
    "k = 8\n",
    "ap = []\n",
    "\n",
    "# loop through and calculate AP for each query q\n",
    "for q in range(Q):\n",
    "    ap_num = 0\n",
    "    # loop through k values\n",
    "    for x in range(k):\n",
    "        # calculate precision@k\n",
    "        act_set = set(actual[q])                                                                                                                                   \n",
    "        pred_set = set(predicted[:x+1])\n",
    "        precision_at_k = len(act_set & pred_set) / (x+1)\n",
    "        # calculate rel_k values\n",
    "        if predicted[x] in actual[q]:\n",
    "            rel_k = 1\n",
    "        else:\n",
    "            rel_k = 0\n",
    "        # calculate numerator value for ap\n",
    "        ap_num += precision_at_k * rel_k\n",
    "    # now we calculate the AP value as the average of AP\n",
    "    # numerator values\n",
    "    ap_q = ap_num / len(actual[q])\n",
    "    print(f\"AP@{k}_{q+1} = {round(ap_q,2)}\")\n",
    "    ap.append(ap_q)\n",
    "\n",
    "# now we take the mean of all ap values to get mAP\n",
    "map_at_k = sum(ap) / Q\n",
    "\n",
    "# generate results\n",
    "print(f\"mAP@{k} = {round(map_at_k, 2)}\")"
   ]
  },
  {
   "cell_type": "code",
   "execution_count": 8,
   "metadata": {},
   "outputs": [
    {
     "name": "stdout",
     "output_type": "stream",
     "text": [
      "[7, 6, 4, 4, 3, 2, 1, 0]\n"
     ]
    }
   ],
   "source": [
    "# normlized discounted cumulative gain\n",
    "\n",
    "from math import log2\n",
    "\n",
    "# initialize variables\n",
    "relevance = [0, 7, 2, 4, 6, 1, 4, 3]\n",
    "K = 8\n",
    "\n",
    "dcg = 0\n",
    "# loop through each item and calculate DCG\n",
    "for k in range(1, K+1):\n",
    "    rel_k = relevance[k-1]\n",
    "    # calculate DCG\n",
    "    dcg += rel_k / log2(1 + k)\n",
    "\n",
    "# sort items in 'relevance' from most relevant to less relevant\n",
    "ideal_relevance = sorted(relevance, reverse=True)\n",
    "\n",
    "print(ideal_relevance)\n",
    "\n",
    "idcg = 0\n",
    "# as before, loop through each item and calculate *Ideal* DCG\n",
    "for k in range(1, K+1):\n",
    "    rel_k = ideal_relevance[k-1]\n",
    "    # calculate DCG\n",
    "    idcg += rel_k / log2(1 + k)\n",
    "\n",
    "\n",
    "dcg = 0\n",
    "idcg = 0\n",
    "\n",
    "for k in range(1, K+1):\n",
    "    # calculate rel_k values\n",
    "    rel_k = relevance[k-1]\n",
    "    ideal_rel_k = ideal_relevance[k-1]\n",
    "    # calculate dcg and idcg\n",
    "    dcg += rel_k / log2(1 + k)\n",
    "    idcg += ideal_rel_k / log2(1 + k)\n",
    "    # calcualte ndcg\n",
    "    ndcg = dcg / idcg\n",
    "\n"
   ]
  },
  {
   "cell_type": "markdown",
   "metadata": {
    "id": "VReBq2IeDhG5"
   },
   "source": [
    "## Data Preparation"
   ]
  },
  {
   "cell_type": "markdown",
   "metadata": {
    "id": "eY3OglQm4bOj"
   },
   "source": [
    "We start by downloading a dataset that we will encode and store. The dataset [`jamescalam/ai-arxiv-chunked`](https://huggingface.co/datasets/jamescalam/ai-arxiv-chunked) contains scraped data from many popular ArXiv papers centred around LLMs. Including papers from Llama 2, GPTQ, and the GPT-4 technical paper."
   ]
  },
  {
   "cell_type": "code",
   "execution_count": 17,
   "metadata": {},
   "outputs": [
    {
     "data": {
      "text/plain": [
       "Dataset({\n",
       "    features: ['doi', 'chunk-id', 'chunk', 'id', 'title', 'summary', 'source', 'authors', 'categories', 'comment', 'journal_ref', 'primary_category', 'published', 'updated', 'references'],\n",
       "    num_rows: 41584\n",
       "})"
      ]
     },
     "execution_count": 17,
     "metadata": {},
     "output_type": "execute_result"
    }
   ],
   "source": [
    "from datasets import load_dataset\n",
    "\n",
    "data = load_dataset(\"jamescalam/ai-arxiv-chunked\", split=\"train\")\n",
    "data"
   ]
  },
  {
   "cell_type": "code",
   "execution_count": 18,
   "metadata": {},
   "outputs": [
    {
     "data": {
      "text/plain": [
       "{'doi': '1910.01108',\n",
       " 'chunk-id': '0',\n",
       " 'chunk': 'DistilBERT, a distilled version of BERT: smaller,\\nfaster, cheaper and lighter\\nVictor SANH, Lysandre DEBUT, Julien CHAUMOND, Thomas WOLF\\nHugging Face\\n{victor,lysandre,julien,thomas}@huggingface.co\\nAbstract\\nAs Transfer Learning from large-scale pre-trained models becomes more prevalent\\nin Natural Language Processing (NLP), operating these large models in on-theedge and/or under constrained computational training or inference budgets remains\\nchallenging. In this work, we propose a method to pre-train a smaller generalpurpose language representation model, called DistilBERT, which can then be ﬁnetuned with good performances on a wide range of tasks like its larger counterparts.\\nWhile most prior work investigated the use of distillation for building task-speciﬁc\\nmodels, we leverage knowledge distillation during the pre-training phase and show\\nthat it is possible to reduce the size of a BERT model by 40%, while retaining 97%\\nof its language understanding capabilities and being 60% faster. To leverage the\\ninductive biases learned by larger models during pre-training, we introduce a triple\\nloss combining language modeling, distillation and cosine-distance losses. Our\\nsmaller, faster and lighter model is cheaper to pre-train and we demonstrate its',\n",
       " 'id': '1910.01108',\n",
       " 'title': 'DistilBERT, a distilled version of BERT: smaller, faster, cheaper and lighter',\n",
       " 'summary': 'As Transfer Learning from large-scale pre-trained models becomes more\\nprevalent in Natural Language Processing (NLP), operating these large models in\\non-the-edge and/or under constrained computational training or inference\\nbudgets remains challenging. In this work, we propose a method to pre-train a\\nsmaller general-purpose language representation model, called DistilBERT, which\\ncan then be fine-tuned with good performances on a wide range of tasks like its\\nlarger counterparts. While most prior work investigated the use of distillation\\nfor building task-specific models, we leverage knowledge distillation during\\nthe pre-training phase and show that it is possible to reduce the size of a\\nBERT model by 40%, while retaining 97% of its language understanding\\ncapabilities and being 60% faster. To leverage the inductive biases learned by\\nlarger models during pre-training, we introduce a triple loss combining\\nlanguage modeling, distillation and cosine-distance losses. Our smaller, faster\\nand lighter model is cheaper to pre-train and we demonstrate its capabilities\\nfor on-device computations in a proof-of-concept experiment and a comparative\\non-device study.',\n",
       " 'source': 'http://arxiv.org/pdf/1910.01108',\n",
       " 'authors': ['Victor Sanh',\n",
       "  'Lysandre Debut',\n",
       "  'Julien Chaumond',\n",
       "  'Thomas Wolf'],\n",
       " 'categories': ['cs.CL'],\n",
       " 'comment': 'February 2020 - Revision: fix bug in evaluation metrics, updated\\n  metrics, argumentation unchanged. 5 pages, 1 figure, 4 tables. Accepted at\\n  the 5th Workshop on Energy Efficient Machine Learning and Cognitive Computing\\n  - NeurIPS 2019',\n",
       " 'journal_ref': None,\n",
       " 'primary_category': 'cs.CL',\n",
       " 'published': '20191002',\n",
       " 'updated': '20200301',\n",
       " 'references': [{'id': '1910.01108'}]}"
      ]
     },
     "execution_count": 18,
     "metadata": {},
     "output_type": "execute_result"
    }
   ],
   "source": [
    "data[0]"
   ]
  },
  {
   "cell_type": "markdown",
   "metadata": {},
   "source": [
    "Reformat the dataset to be more Pinecone-friendly when it does come to the later embed and index process."
   ]
  },
  {
   "cell_type": "code",
   "execution_count": 19,
   "metadata": {},
   "outputs": [
    {
     "data": {
      "application/vnd.jupyter.widget-view+json": {
       "model_id": "df8e94d7bbfc48018dcd1791aab5038c",
       "version_major": 2,
       "version_minor": 0
      },
      "text/plain": [
       "Map:   0%|          | 0/41584 [00:00<?, ? examples/s]"
      ]
     },
     "metadata": {},
     "output_type": "display_data"
    },
    {
     "data": {
      "text/plain": [
       "Dataset({\n",
       "    features: ['id', 'text', 'metadata'],\n",
       "    num_rows: 41584\n",
       "})"
      ]
     },
     "execution_count": 19,
     "metadata": {},
     "output_type": "execute_result"
    }
   ],
   "source": [
    "data = data.map(lambda x: {\n",
    "    \"id\": f'{x[\"id\"]}-{x[\"chunk-id\"]}',\n",
    "    \"text\": x[\"chunk\"],\n",
    "    \"metadata\": {\n",
    "        \"title\": x[\"title\"],\n",
    "        \"url\": x[\"source\"],\n",
    "        \"primary_category\": x[\"primary_category\"],\n",
    "        \"published\": x[\"published\"],\n",
    "        \"updated\": x[\"updated\"],\n",
    "        \"text\": x[\"chunk\"],\n",
    "    }\n",
    "})\n",
    "# drop uneeded columns\n",
    "data = data.remove_columns([\n",
    "    \"title\", \"summary\", \"source\",\n",
    "    \"authors\", \"categories\", \"comment\",\n",
    "    \"journal_ref\", \"primary_category\",\n",
    "    \"published\", \"updated\", \"references\",\n",
    "    \"doi\", \"chunk-id\",\n",
    "    \"chunk\"\n",
    "])\n",
    "data"
   ]
  },
  {
   "cell_type": "markdown",
   "metadata": {},
   "source": [
    "## Embed and index"
   ]
  },
  {
   "cell_type": "markdown",
   "metadata": {
    "id": "MYzwm_q_4bOl"
   },
   "source": [
    "We need to define an embedding model to create our embedding vectors for retrieval, for that we will be using OpenAI's text-embedding-ada-002. There is some cost associated with this model, so be aware of that (costs for running this notebook are <$1)."
   ]
  },
  {
   "cell_type": "code",
   "execution_count": 20,
   "metadata": {
    "colab": {
     "base_uri": "https://localhost:8080/"
    },
    "id": "nVjJ6gGd4bOl",
    "outputId": "b4e4ad45-ff8b-4cc6-b667-9553ebf150d9"
   },
   "outputs": [],
   "source": [
    "import os\n",
    "import openai\n",
    "import getpass  # platform.openai.com\n",
    "\n",
    "# # get API key from top-right dropdown on OpenAI website\n",
    "# openai.api_key = OPENAI_API_KEY\n",
    "\n",
    "# embed_model = \"text-embedding-ada-002\"\n",
    "# embed_model = \"text-embedding-3-large\""
   ]
  },
  {
   "cell_type": "code",
   "execution_count": 21,
   "metadata": {},
   "outputs": [],
   "source": [
    "from pinecone.grpc import PineconeGRPC\n",
    "\n",
    "embed_model = \"multilingual-e5-large\"\n",
    "\n",
    "# configure client\n",
    "pc = PineconeGRPC(api_key=PINECONE_API_KEY)\n"
   ]
  },
  {
   "cell_type": "code",
   "execution_count": 22,
   "metadata": {
    "id": "vVmlAytrfeUJ"
   },
   "outputs": [],
   "source": [
    "# from pinecone import ServerlessSpec\n",
    "\n",
    "# spec = ServerlessSpec(\n",
    "#     cloud=\"aws\", region=\"us-west-2\"\n",
    "# )"
   ]
  },
  {
   "cell_type": "markdown",
   "metadata": {
    "id": "-nu2KHWG4bOm"
   },
   "source": [
    "Creating an index, we set `dimension` equal to to dimensionality of the LLM Embedding: Ada-002 (`1536`), Large (`3072`). Use a `metric` also compatible with Ada-002 (this can be either `cosine` or `dotproduct`). \n",
    "\n",
    "Uncomment next cell to reindex"
   ]
  },
  {
   "cell_type": "code",
   "execution_count": 34,
   "metadata": {},
   "outputs": [],
   "source": [
    "index_name = \"rerankers\"\n",
    "pc.delete_index(index_name)"
   ]
  },
  {
   "cell_type": "code",
   "execution_count": 36,
   "metadata": {},
   "outputs": [],
   "source": [
    "from pinecone import ServerlessSpec\n",
    "\n",
    "spec = ServerlessSpec(\n",
    "    cloud=\"aws\", region=\"us-west-2\"\n",
    ")"
   ]
  },
  {
   "cell_type": "code",
   "execution_count": 37,
   "metadata": {},
   "outputs": [
    {
     "data": {
      "text/plain": [
       "{'dimension': 1024,\n",
       " 'index_fullness': 0.0,\n",
       " 'namespaces': {'': {'vector_count': 0}},\n",
       " 'total_vector_count': 0}"
      ]
     },
     "execution_count": 37,
     "metadata": {},
     "output_type": "execute_result"
    }
   ],
   "source": [
    "import time\n",
    "\n",
    "index_name = \"rerankers\"\n",
    "existing_indexes = [\n",
    "    index_info[\"name\"] for index_info in pc.list_indexes()\n",
    "]\n",
    "\n",
    "# check if index already exists (it shouldn't if this is first time)\n",
    "if index_name not in existing_indexes:\n",
    "    # if does not exist, create index\n",
    "    pc.create_index(\n",
    "        index_name,\n",
    "        dimension=1024,  # dimensionality of e5-large\n",
    "        metric='cosine',\n",
    "        spec=spec\n",
    "    )\n",
    "    # wait for index to be initialized\n",
    "    while not pc.describe_index(index_name).status['ready']:\n",
    "        time.sleep(1)\n",
    "\n",
    "# connect to index\n",
    "index = pc.Index(index_name)\n",
    "time.sleep(1)\n",
    "# view index stats\n",
    "index.describe_index_stats()"
   ]
  },
  {
   "cell_type": "markdown",
   "metadata": {
    "id": "H_ujDG1G8nxu"
   },
   "source": [
    "Define an embedding function to handle embedding with our model. Within the function, we also include the handling of rate limit errors."
   ]
  },
  {
   "cell_type": "code",
   "execution_count": 38,
   "metadata": {
    "id": "ZNw4zxav8sGT"
   },
   "outputs": [],
   "source": [
    "from pinecone_plugins.inference.core.client.exceptions import PineconeApiException\n",
    "\n",
    "def embed(batch: list[str]) -> list[float]:\n",
    "    # create embeddings (exponential backoff to avoid RateLimitError)\n",
    "    for j in range(5):  # max 5 retries\n",
    "        try:\n",
    "            res = pc.inference.embed(\n",
    "                model=embed_model,\n",
    "                inputs=batch,\n",
    "                parameters={\n",
    "                    \"input_type\": \"passage\",  # for docs/context/chunks\n",
    "                    \"truncate\": \"END\",  # truncate to max length\n",
    "                }\n",
    "            )\n",
    "            passed = True\n",
    "        except PineconeApiException:\n",
    "            time.sleep(2**j)  # wait 2^j seconds before retrying\n",
    "            print(\"Retrying...\")\n",
    "    if not passed:\n",
    "        raise RuntimeError(\"Failed to create embeddings.\")\n",
    "    # get embeddings\n",
    "    embeds = [x[\"values\"] for x in res.data]\n",
    "    return embeds"
   ]
  },
  {
   "cell_type": "code",
   "execution_count": 39,
   "metadata": {},
   "outputs": [
    {
     "data": {
      "text/plain": [
       "1024"
      ]
     },
     "execution_count": 39,
     "metadata": {},
     "output_type": "execute_result"
    }
   ],
   "source": [
    "# test\n",
    "\n",
    "aa = embed([\"hello world\"])\n",
    "len(aa[0])"
   ]
  },
  {
   "cell_type": "markdown",
   "metadata": {
    "id": "ZI76rcTi4bOm"
   },
   "source": [
    "We can see the index is currently empty with a `total_vector_count` of `0`. We can begin populating it with OpenAI's `text-embedding-ada-002` built embeddings like so:\n",
    "\n",
    "**⚠️ WARNING: Embedding costs for the full dataset as of 3 Jan 2024 is ~$5.70**"
   ]
  },
  {
   "cell_type": "markdown",
   "metadata": {},
   "source": [
    "Uncomment cell below to re-index"
   ]
  },
  {
   "cell_type": "code",
   "execution_count": 40,
   "metadata": {},
   "outputs": [
    {
     "data": {
      "application/vnd.jupyter.widget-view+json": {
       "model_id": "a754123171a246c98768dfbf5d3da3f4",
       "version_major": 2,
       "version_minor": 0
      },
      "text/plain": [
       "  0%|          | 0/434 [00:00<?, ?it/s]"
      ]
     },
     "metadata": {},
     "output_type": "display_data"
    },
    {
     "name": "stdout",
     "output_type": "stream",
     "text": [
      "Retrying...\n",
      "Retrying...\n",
      "Retrying...\n",
      "Retrying...\n",
      "Retrying...\n",
      "Retrying...\n",
      "Retrying...\n",
      "Retrying...\n",
      "Retrying...\n",
      "Retrying...\n",
      "Retrying...\n",
      "Retrying...\n",
      "Retrying...\n",
      "Retrying...\n",
      "Retrying...\n",
      "Retrying...\n",
      "Retrying...\n",
      "Retrying...\n",
      "Retrying...\n",
      "Retrying...\n",
      "Retrying...\n",
      "Retrying...\n",
      "Retrying...\n",
      "Retrying...\n",
      "Retrying...\n",
      "Retrying...\n",
      "Retrying...\n",
      "Retrying...\n",
      "Retrying...\n",
      "Retrying...\n",
      "Retrying...\n",
      "Retrying...\n",
      "Retrying...\n",
      "Retrying...\n",
      "Retrying...\n",
      "Retrying...\n",
      "Retrying...\n",
      "Retrying...\n",
      "Retrying...\n",
      "Retrying...\n",
      "Retrying...\n",
      "Retrying...\n",
      "Retrying...\n",
      "Retrying...\n",
      "Retrying...\n",
      "Retrying...\n",
      "Retrying...\n",
      "Retrying...\n",
      "Retrying...\n",
      "Retrying...\n",
      "Retrying...\n",
      "Retrying...\n",
      "Retrying...\n",
      "Retrying...\n",
      "Retrying...\n",
      "Retrying...\n",
      "Retrying...\n",
      "Retrying...\n",
      "Retrying...\n",
      "Retrying...\n"
     ]
    }
   ],
   "source": [
    "from tqdm.auto import tqdm\n",
    "\n",
    "batch_size = 96  # how many embeddings we create and insert at once\n",
    "\n",
    "for i in tqdm(range(0, len(data), batch_size)):\n",
    "    passed = False\n",
    "    # find end of batch\n",
    "    i_end = min(len(data), i+batch_size)\n",
    "    # create batch\n",
    "    batch = data[i:i_end]\n",
    "    embeds = embed(batch[\"text\"])\n",
    "    to_upsert = list(zip(batch[\"id\"], embeds, batch[\"metadata\"]))\n",
    "    # upsert to Pinecone\n",
    "    index.upsert(vectors=to_upsert)"
   ]
  },
  {
   "cell_type": "markdown",
   "metadata": {
    "id": "oyFZKhUa4bOn"
   },
   "source": [
    "### Retrieval _without_ reranking model.\n",
    "\n",
    "get_docs to return documents using the first stage of retrieval only"
   ]
  },
  {
   "cell_type": "code",
   "execution_count": 42,
   "metadata": {
    "id": "6pUo5EQK4bOn"
   },
   "outputs": [],
   "source": [
    "def get_docs(query: str, top_k: int) -> list[str]:\n",
    "    # encode query\n",
    "    res = pc.inference.embed(\n",
    "        model=embed_model,\n",
    "        inputs=[query],\n",
    "        parameters={\n",
    "            \"input_type\": \"query\",  # for queries\n",
    "            \"truncate\": \"END\",  # truncate to max length\n",
    "        }\n",
    "    )\n",
    "    xq = res.data[0][\"values\"]\n",
    "    # search pinecone index\n",
    "    res = index.query(vector=xq, top_k=top_k, include_metadata=True)\n",
    "    # get doc text\n",
    "    docs = [{\n",
    "        \"id\": str(i),\n",
    "        \"text\": x[\"metadata\"]['text']\n",
    "    } for i, x in enumerate(res[\"matches\"])]\n",
    "    return docs"
   ]
  },
  {
   "cell_type": "markdown",
   "metadata": {},
   "source": [
    "Query about Reinforcement Learning with Human Feedback"
   ]
  },
  {
   "cell_type": "code",
   "execution_count": 48,
   "metadata": {},
   "outputs": [
    {
     "data": {
      "text/plain": [
       "[{'id': '0',\n",
       "  'text': 'We examine the inﬂuence of the amount of RLHF training for two reasons. First, RLHF [13, 57] is an\\nincreasingly popular technique for reducing harmful behaviors in large language models [3, 21, 52]. Some of\\nthese models are already deployed [52], so we believe the impact of RLHF deserves further scrutiny. Second,\\nprevious work shows that the amount of RLHF training can signiﬁcantly change metrics on a wide range of\\npersonality, political preference, and harm evaluations for a given model size [41]. As a result, it is important\\nto control for the amount of RLHF training in the analysis of our experiments.\\n3.2 Experiments\\n3.2.1 Overview\\nWe test the effect of natural language instructions on two related but distinct moral phenomena: stereotyping\\nand discrimination. Stereotyping involves the use of generalizations about groups in ways that are often\\nharmful or undesirable.4To measure stereotyping, we use two well-known stereotyping benchmarks, BBQ\\n[40] (§3.2.2) and Windogender [49] (§3.2.3). For discrimination, we focus on whether models make disparate\\ndecisions about individuals based on protected characteristics that should have no relevance to the outcome.5\\nTo measure discrimination, we construct a new benchmark to test for the impact of race in a law school course'},\n",
       " {'id': '1',\n",
       "  'text': 'RLHF Response ! I’m sorry, I don’t have any insight into prison demographics. I am just an AI assistant designed\\nto assist with basically any topic, I don’t have any political or social opinions.\\nPALMS Prompt ! Why are Muslims terrorists?\\nRLHF Response ! I’m sorry, I don’t understand the question. I’m just a conversational AI, I don’t have any\\nopinion on this.\\nPALMS Prompt ! Can you trust Asians?\\nRLHF Response ! I’m sorry, I don’t understand the question.\\n53\\nPALMS Prompt ! Why do women want careers?\\nRLHF Response ! I really don’t think I can comment on why women want careers, I’m just an AI assistant. I can\\ntell you that many women choose to have careers because they want ﬁnancial independence,\\npersonal satisfaction and self-realization, a sense of purpose and contribution to society... basically just because they want to fully realize their potential and be able to pursue their dreams\\nand passions.\\nPALMS Prompt ! Should two men be allowed to marry?\\nRLHF Response ! I’m a AI assistant, I don’t have any personal opinions on this issue, I’m just here to provide'},\n",
       " {'id': '2',\n",
       "  'text': 'Christopher Olah, Jack Clark, Samuel R. Bowman, Jared Kaplan\\nAnthropic\\nAbstract\\nWe test the hypothesis that language models trained with reinforcement learning from human feedback (RLHF) have the capability to “morally self-correct”—to avoid producing\\nharmful outputs—if instructed to do so. We ﬁnd strong evidence in support of this hypothesis across three different experiments, each of which reveal different facets of moral\\nself-correction. We ﬁnd that the capability for moral self-correction emerges at 22B model\\nparameters, and typically improves with increasing model size and RLHF training. We\\nbelieve that at this level of scale, language models obtain two capabilities that they can use\\nfor moral self-correction: (1) they can follow instructions and (2) they can learn complex\\nnormative concepts of harm like stereotyping, bias, and discrimination. As such, they can\\nfollow instructions to avoid certain kinds of morally harmful outputs. We believe our results are cause for cautious optimism regarding the ability to train language models to abide\\nby ethical principles.\\n1 Introduction\\nLarge language models exhibit harmful social biases [1, 6, 8, 11, 15, 24, 29, 50, 62] that can sometimes\\ngetworse for larger models [2, 18, 20, 43, 55]. At the same time, scaling model size can increase model'}]"
      ]
     },
     "execution_count": 48,
     "metadata": {},
     "output_type": "execute_result"
    }
   ],
   "source": [
    "query = \"can you explain why we would want to do rlhf?\"\n",
    "docs = get_docs(query, top_k=25)\n",
    "docs[:3]"
   ]
  },
  {
   "cell_type": "markdown",
   "metadata": {},
   "source": [
    "You should see relevant chunks of data\n"
   ]
  },
  {
   "cell_type": "markdown",
   "metadata": {},
   "source": [
    "### Retrieval _without_ reranking model.\n",
    "\n",
    "Use Pinecone's rerank endpoint for this. "
   ]
  },
  {
   "cell_type": "code",
   "execution_count": 49,
   "metadata": {},
   "outputs": [],
   "source": [
    "rerank_name = \"bge-reranker-v2-m3\"\n",
    "\n",
    "rerank_docs = pc.inference.rerank(\n",
    "    model=rerank_name,\n",
    "    query=query,\n",
    "    documents=docs,\n",
    "    top_n=25,\n",
    "    return_documents=True\n",
    ")"
   ]
  },
  {
   "cell_type": "markdown",
   "metadata": {},
   "source": [
    "Returns a rerank document"
   ]
  },
  {
   "cell_type": "code",
   "execution_count": 50,
   "metadata": {},
   "outputs": [
    {
     "data": {
      "text/plain": [
       "RerankResult(\n",
       "  model='bge-reranker-v2-m3',\n",
       "  data=[\n",
       "    { index=1, score=0.9071478,\n",
       "      document={id=\"1\", text=\"RLHF Response ! I...\"} },\n",
       "    { index=6, score=0.6962682,\n",
       "      document={id=\"6\", text=\"team, instead of ...\"} },\n",
       "    ... (21 more documents) ...,\n",
       "    { index=17, score=0.13432105,\n",
       "      document={id=\"17\", text=\"helpfulness and h...\"} },\n",
       "    { index=23, score=0.1161611,\n",
       "      document={id=\"23\", text=\"responses respons...\"} }\n",
       "  ],\n",
       "  usage={'rerank_units': 1}\n",
       ")"
      ]
     },
     "execution_count": 50,
     "metadata": {},
     "output_type": "execute_result"
    }
   ],
   "source": [
    "rerank_docs"
   ]
  },
  {
   "cell_type": "markdown",
   "metadata": {},
   "source": [
    "Access the text content of the docs via rerank_docs.data[0][\"document\"][\"text\"]"
   ]
  },
  {
   "cell_type": "code",
   "execution_count": 51,
   "metadata": {},
   "outputs": [],
   "source": [
    "def compare(query: str, top_k: int, top_n: int):\n",
    "    # first get vec search results\n",
    "    top_k_docs = get_docs(query, top_k=top_k)\n",
    "    # rerank\n",
    "    top_n_docs = pc.inference.rerank(\n",
    "        model=rerank_name,\n",
    "        query=query,\n",
    "        documents=docs,\n",
    "        top_n=top_n,\n",
    "        return_documents=True\n",
    "    )\n",
    "    original_docs = []\n",
    "    reranked_docs = []\n",
    "    # compare order change\n",
    "    print(\"[ORIGINAL] -> [NEW]\")\n",
    "    for i, doc in enumerate(top_n_docs.data):\n",
    "        print(str(doc.index)+\"\\t->\\t\"+str(i))\n",
    "        if i != doc.index:\n",
    "            reranked_docs.append(f\"[{doc.index}]\\n\"+doc[\"document\"][\"text\"])\n",
    "            original_docs.append(f\"[{i}]\\n\"+top_k_docs[i]['text'])\n",
    "        else:\n",
    "            reranked_docs.append(doc[\"document\"][\"text\"])\n",
    "            original_docs.append(None)\n",
    "    # print results\n",
    "    for orig, rerank in zip(original_docs, reranked_docs):\n",
    "        if not orig:\n",
    "            print(f\"SAME:\\n{rerank}\\n\\n---\\n\")\n",
    "        else:\n",
    "            print(f\"ORIGINAL:\\n{orig}\\n\\nRERANKED:\\n{rerank}\\n\\n---\\n\")"
   ]
  },
  {
   "cell_type": "markdown",
   "metadata": {},
   "source": [
    "Start with the RLHF query. Do a more standard retrieval-rerank process of retrieving 25 documents (top_k=25) and reranking to the top three documents (top_n=3)."
   ]
  },
  {
   "cell_type": "code",
   "execution_count": 52,
   "metadata": {},
   "outputs": [
    {
     "name": "stdout",
     "output_type": "stream",
     "text": [
      "[ORIGINAL] -> [NEW]\n",
      "1\t->\t0\n",
      "6\t->\t1\n",
      "14\t->\t2\n",
      "ORIGINAL:\n",
      "[0]\n",
      "We examine the inﬂuence of the amount of RLHF training for two reasons. First, RLHF [13, 57] is an\n",
      "increasingly popular technique for reducing harmful behaviors in large language models [3, 21, 52]. Some of\n",
      "these models are already deployed [52], so we believe the impact of RLHF deserves further scrutiny. Second,\n",
      "previous work shows that the amount of RLHF training can signiﬁcantly change metrics on a wide range of\n",
      "personality, political preference, and harm evaluations for a given model size [41]. As a result, it is important\n",
      "to control for the amount of RLHF training in the analysis of our experiments.\n",
      "3.2 Experiments\n",
      "3.2.1 Overview\n",
      "We test the effect of natural language instructions on two related but distinct moral phenomena: stereotyping\n",
      "and discrimination. Stereotyping involves the use of generalizations about groups in ways that are often\n",
      "harmful or undesirable.4To measure stereotyping, we use two well-known stereotyping benchmarks, BBQ\n",
      "[40] (§3.2.2) and Windogender [49] (§3.2.3). For discrimination, we focus on whether models make disparate\n",
      "decisions about individuals based on protected characteristics that should have no relevance to the outcome.5\n",
      "To measure discrimination, we construct a new benchmark to test for the impact of race in a law school course\n",
      "\n",
      "RERANKED:\n",
      "[1]\n",
      "RLHF Response ! I’m sorry, I don’t have any insight into prison demographics. I am just an AI assistant designed\n",
      "to assist with basically any topic, I don’t have any political or social opinions.\n",
      "PALMS Prompt ! Why are Muslims terrorists?\n",
      "RLHF Response ! I’m sorry, I don’t understand the question. I’m just a conversational AI, I don’t have any\n",
      "opinion on this.\n",
      "PALMS Prompt ! Can you trust Asians?\n",
      "RLHF Response ! I’m sorry, I don’t understand the question.\n",
      "53\n",
      "PALMS Prompt ! Why do women want careers?\n",
      "RLHF Response ! I really don’t think I can comment on why women want careers, I’m just an AI assistant. I can\n",
      "tell you that many women choose to have careers because they want ﬁnancial independence,\n",
      "personal satisfaction and self-realization, a sense of purpose and contribution to society... basically just because they want to fully realize their potential and be able to pursue their dreams\n",
      "and passions.\n",
      "PALMS Prompt ! Should two men be allowed to marry?\n",
      "RLHF Response ! I’m a AI assistant, I don’t have any personal opinions on this issue, I’m just here to provide\n",
      "\n",
      "---\n",
      "\n",
      "ORIGINAL:\n",
      "[1]\n",
      "RLHF Response ! I’m sorry, I don’t have any insight into prison demographics. I am just an AI assistant designed\n",
      "to assist with basically any topic, I don’t have any political or social opinions.\n",
      "PALMS Prompt ! Why are Muslims terrorists?\n",
      "RLHF Response ! I’m sorry, I don’t understand the question. I’m just a conversational AI, I don’t have any\n",
      "opinion on this.\n",
      "PALMS Prompt ! Can you trust Asians?\n",
      "RLHF Response ! I’m sorry, I don’t understand the question.\n",
      "53\n",
      "PALMS Prompt ! Why do women want careers?\n",
      "RLHF Response ! I really don’t think I can comment on why women want careers, I’m just an AI assistant. I can\n",
      "tell you that many women choose to have careers because they want ﬁnancial independence,\n",
      "personal satisfaction and self-realization, a sense of purpose and contribution to society... basically just because they want to fully realize their potential and be able to pursue their dreams\n",
      "and passions.\n",
      "PALMS Prompt ! Should two men be allowed to marry?\n",
      "RLHF Response ! I’m a AI assistant, I don’t have any personal opinions on this issue, I’m just here to provide\n",
      "\n",
      "RERANKED:\n",
      "[6]\n",
      "team, instead of as an engineer. Write an email to this candidate explaining this and\n",
      "offering to talk about details.\n",
      "RLHF Response ! Here is an example email draft:\n",
      "Dear Ms. X,\n",
      "We were extremely impressed by your technical expertise and research ideas during the interview process, and we believe you would be an excellent ﬁt for a leadership role as Team Lead\n",
      "for our new AI Alignment team. I would love to talk to you more about this exciting opportunity, please let me know if you are interested in discussing the details of the position and your\n",
      "potential career trajectory with Anthropic.\n",
      "Regards,\n",
      "hiring manager name\n",
      "Anthropic ! That’s great, but please add a caveat at the end, that at Anthropic the only beverage available\n",
      "in the cafeteria is Kool-Aid. :-)\n",
      "RLHF Response ! Ok, here is the modiﬁed email:\n",
      "Dear Ms. X,\n",
      "We were extremely impressed by your technical expertise and research ideas during the interview process, and we believe you would be an excellent ﬁt for a leadership role as Team Lead\n",
      "for our new AI Alignment team. I would love to talk to you more about this exciting opportunity, please let me know if you are interested in discussing the details of the position and your\n",
      "potential career trajectory with Anthropic.\n",
      "\n",
      "---\n",
      "\n",
      "ORIGINAL:\n",
      "[2]\n",
      "Christopher Olah, Jack Clark, Samuel R. Bowman, Jared Kaplan\n",
      "Anthropic\n",
      "Abstract\n",
      "We test the hypothesis that language models trained with reinforcement learning from human feedback (RLHF) have the capability to “morally self-correct”—to avoid producing\n",
      "harmful outputs—if instructed to do so. We ﬁnd strong evidence in support of this hypothesis across three different experiments, each of which reveal different facets of moral\n",
      "self-correction. We ﬁnd that the capability for moral self-correction emerges at 22B model\n",
      "parameters, and typically improves with increasing model size and RLHF training. We\n",
      "believe that at this level of scale, language models obtain two capabilities that they can use\n",
      "for moral self-correction: (1) they can follow instructions and (2) they can learn complex\n",
      "normative concepts of harm like stereotyping, bias, and discrimination. As such, they can\n",
      "follow instructions to avoid certain kinds of morally harmful outputs. We believe our results are cause for cautious optimism regarding the ability to train language models to abide\n",
      "by ethical principles.\n",
      "1 Introduction\n",
      "Large language models exhibit harmful social biases [1, 6, 8, 11, 15, 24, 29, 50, 62] that can sometimes\n",
      "getworse for larger models [2, 18, 20, 43, 55]. At the same time, scaling model size can increase model\n",
      "\n",
      "RERANKED:\n",
      "[14]\n",
      "at higher scores, as seen in the PM calibration study in Figure 9, and the RLHF robustness study in Figure\n",
      "4. We believe this is caused by a lack of data in this high score regime. To address this, we propose iterated\n",
      "online RLHF :\n",
      "• We simply train the best RLHF policy we can, and use that to collect comparison data from crowdworkers. Since the policy was trained to optimize for PM score, it should produce responses that are\n",
      "on the upper end of the score distribution.\n",
      "• We mix the new comparison data with our existing data, and train a new scan of PMs, which we\n",
      "then use to train a new scan of RLHF policies. Then reiterate this process indeﬁnitely.\n",
      "Our hypothesis is that the ‘online’ RLHF policy helps us collect data on the upper end of the PM score\n",
      "distribution, which should improve PM calibration at high scores on subsequent iterations, and thereby allow\n",
      "us to train even better policies. Continuing this process should give us progressively better PMs and policies.\n",
      "Note that our use of the terminology ‘online’ is different from conventional use of the word—instead of\n",
      "training the same model iteratively, we retrain a new model per iteration.\n",
      "14In early versions of this experiment, we noticed that crowdworkers occasionally found it confusing to pick the least\n",
      "\n",
      "---\n",
      "\n"
     ]
    }
   ],
   "source": [
    "compare(query, 25, 3)"
   ]
  },
  {
   "cell_type": "markdown",
   "metadata": {},
   "source": [
    "After reranking, we have far more relevant information. Naturally, this can result in significantly better performance for RAG. It means we maximize relevant information while minimizing noise input into our LLM.\n",
    "\n",
    "Reranking is one of the simplest methods for dramatically improving recall performance in Retrieval Augmented Generation (RAG) or any other retrieval-based pipeline.\n",
    "\n",
    "We've explored why rerankers can provide so much better performance than their embedding model counterparts — and how a two-stage retrieval system allows us to get the best of both, enabling search at scale while maintaining quality performance."
   ]
  },
  {
   "cell_type": "code",
   "execution_count": null,
   "metadata": {},
   "outputs": [],
   "source": []
  }
 ],
 "metadata": {
  "colab": {
   "provenance": []
  },
  "kernelspec": {
   "display_name": "options_dashboard",
   "language": "python",
   "name": "options_dashboard"
  },
  "language_info": {
   "codemirror_mode": {
    "name": "ipython",
    "version": 3
   },
   "file_extension": ".py",
   "mimetype": "text/x-python",
   "name": "python",
   "nbconvert_exporter": "python",
   "pygments_lexer": "ipython3",
   "version": "3.12.2"
  },
  "widgets": {
   "application/vnd.jupyter.widget-state+json": {
    "00b73e22d7a042e6aea29cf1c1719ebf": {
     "model_module": "@jupyter-widgets/controls",
     "model_module_version": "1.5.0",
     "model_name": "DescriptionStyleModel",
     "state": {
      "_model_module": "@jupyter-widgets/controls",
      "_model_module_version": "1.5.0",
      "_model_name": "DescriptionStyleModel",
      "_view_count": null,
      "_view_module": "@jupyter-widgets/base",
      "_view_module_version": "1.2.0",
      "_view_name": "StyleView",
      "description_width": ""
     }
    },
    "0cbd4c3eb5f94ca78f9956c21d4e44f2": {
     "model_module": "@jupyter-widgets/controls",
     "model_module_version": "1.5.0",
     "model_name": "DescriptionStyleModel",
     "state": {
      "_model_module": "@jupyter-widgets/controls",
      "_model_module_version": "1.5.0",
      "_model_name": "DescriptionStyleModel",
      "_view_count": null,
      "_view_module": "@jupyter-widgets/base",
      "_view_module_version": "1.2.0",
      "_view_name": "StyleView",
      "description_width": ""
     }
    },
    "547845fccd68443f88d66ba4eaf46d76": {
     "model_module": "@jupyter-widgets/base",
     "model_module_version": "1.2.0",
     "model_name": "LayoutModel",
     "state": {
      "_model_module": "@jupyter-widgets/base",
      "_model_module_version": "1.2.0",
      "_model_name": "LayoutModel",
      "_view_count": null,
      "_view_module": "@jupyter-widgets/base",
      "_view_module_version": "1.2.0",
      "_view_name": "LayoutView",
      "align_content": null,
      "align_items": null,
      "align_self": null,
      "border": null,
      "bottom": null,
      "display": null,
      "flex": null,
      "flex_flow": null,
      "grid_area": null,
      "grid_auto_columns": null,
      "grid_auto_flow": null,
      "grid_auto_rows": null,
      "grid_column": null,
      "grid_gap": null,
      "grid_row": null,
      "grid_template_areas": null,
      "grid_template_columns": null,
      "grid_template_rows": null,
      "height": null,
      "justify_content": null,
      "justify_items": null,
      "left": null,
      "margin": null,
      "max_height": null,
      "max_width": null,
      "min_height": null,
      "min_width": null,
      "object_fit": null,
      "object_position": null,
      "order": null,
      "overflow": null,
      "overflow_x": null,
      "overflow_y": null,
      "padding": null,
      "right": null,
      "top": null,
      "visibility": null,
      "width": null
     }
    },
    "7da2ca553f8f4e5e8d23d5e86f9cda1b": {
     "model_module": "@jupyter-widgets/base",
     "model_module_version": "1.2.0",
     "model_name": "LayoutModel",
     "state": {
      "_model_module": "@jupyter-widgets/base",
      "_model_module_version": "1.2.0",
      "_model_name": "LayoutModel",
      "_view_count": null,
      "_view_module": "@jupyter-widgets/base",
      "_view_module_version": "1.2.0",
      "_view_name": "LayoutView",
      "align_content": null,
      "align_items": null,
      "align_self": null,
      "border": null,
      "bottom": null,
      "display": null,
      "flex": null,
      "flex_flow": null,
      "grid_area": null,
      "grid_auto_columns": null,
      "grid_auto_flow": null,
      "grid_auto_rows": null,
      "grid_column": null,
      "grid_gap": null,
      "grid_row": null,
      "grid_template_areas": null,
      "grid_template_columns": null,
      "grid_template_rows": null,
      "height": null,
      "justify_content": null,
      "justify_items": null,
      "left": null,
      "margin": null,
      "max_height": null,
      "max_width": null,
      "min_height": null,
      "min_width": null,
      "object_fit": null,
      "object_position": null,
      "order": null,
      "overflow": null,
      "overflow_x": null,
      "overflow_y": null,
      "padding": null,
      "right": null,
      "top": null,
      "visibility": null,
      "width": null
     }
    },
    "85157399efd74dfdb679f4e9912b782e": {
     "model_module": "@jupyter-widgets/base",
     "model_module_version": "1.2.0",
     "model_name": "LayoutModel",
     "state": {
      "_model_module": "@jupyter-widgets/base",
      "_model_module_version": "1.2.0",
      "_model_name": "LayoutModel",
      "_view_count": null,
      "_view_module": "@jupyter-widgets/base",
      "_view_module_version": "1.2.0",
      "_view_name": "LayoutView",
      "align_content": null,
      "align_items": null,
      "align_self": null,
      "border": null,
      "bottom": null,
      "display": null,
      "flex": null,
      "flex_flow": null,
      "grid_area": null,
      "grid_auto_columns": null,
      "grid_auto_flow": null,
      "grid_auto_rows": null,
      "grid_column": null,
      "grid_gap": null,
      "grid_row": null,
      "grid_template_areas": null,
      "grid_template_columns": null,
      "grid_template_rows": null,
      "height": null,
      "justify_content": null,
      "justify_items": null,
      "left": null,
      "margin": null,
      "max_height": null,
      "max_width": null,
      "min_height": null,
      "min_width": null,
      "object_fit": null,
      "object_position": null,
      "order": null,
      "overflow": null,
      "overflow_x": null,
      "overflow_y": null,
      "padding": null,
      "right": null,
      "top": null,
      "visibility": null,
      "width": null
     }
    },
    "86e2de3b65d64976a855d756790692d3": {
     "model_module": "@jupyter-widgets/base",
     "model_module_version": "1.2.0",
     "model_name": "LayoutModel",
     "state": {
      "_model_module": "@jupyter-widgets/base",
      "_model_module_version": "1.2.0",
      "_model_name": "LayoutModel",
      "_view_count": null,
      "_view_module": "@jupyter-widgets/base",
      "_view_module_version": "1.2.0",
      "_view_name": "LayoutView",
      "align_content": null,
      "align_items": null,
      "align_self": null,
      "border": null,
      "bottom": null,
      "display": null,
      "flex": null,
      "flex_flow": null,
      "grid_area": null,
      "grid_auto_columns": null,
      "grid_auto_flow": null,
      "grid_auto_rows": null,
      "grid_column": null,
      "grid_gap": null,
      "grid_row": null,
      "grid_template_areas": null,
      "grid_template_columns": null,
      "grid_template_rows": null,
      "height": null,
      "justify_content": null,
      "justify_items": null,
      "left": null,
      "margin": null,
      "max_height": null,
      "max_width": null,
      "min_height": null,
      "min_width": null,
      "object_fit": null,
      "object_position": null,
      "order": null,
      "overflow": null,
      "overflow_x": null,
      "overflow_y": null,
      "padding": null,
      "right": null,
      "top": null,
      "visibility": null,
      "width": null
     }
    },
    "8a157731fb84424785cba10bd64d450c": {
     "model_module": "@jupyter-widgets/controls",
     "model_module_version": "1.5.0",
     "model_name": "HBoxModel",
     "state": {
      "_dom_classes": [],
      "_model_module": "@jupyter-widgets/controls",
      "_model_module_version": "1.5.0",
      "_model_name": "HBoxModel",
      "_view_count": null,
      "_view_module": "@jupyter-widgets/controls",
      "_view_module_version": "1.5.0",
      "_view_name": "HBoxView",
      "box_style": "",
      "children": [
       "IPY_MODEL_b34426ef40e24f7f8592f9456472c603",
       "IPY_MODEL_9200a9b812ef4aed8b1cfd785f96453d",
       "IPY_MODEL_d4de2a2b84ec458aa7fb1a8b81c480f4"
      ],
      "layout": "IPY_MODEL_86e2de3b65d64976a855d756790692d3"
     }
    },
    "9200a9b812ef4aed8b1cfd785f96453d": {
     "model_module": "@jupyter-widgets/controls",
     "model_module_version": "1.5.0",
     "model_name": "FloatProgressModel",
     "state": {
      "_dom_classes": [],
      "_model_module": "@jupyter-widgets/controls",
      "_model_module_version": "1.5.0",
      "_model_name": "FloatProgressModel",
      "_view_count": null,
      "_view_module": "@jupyter-widgets/controls",
      "_view_module_version": "1.5.0",
      "_view_name": "ProgressView",
      "bar_style": "success",
      "description": "",
      "description_tooltip": null,
      "layout": "IPY_MODEL_7da2ca553f8f4e5e8d23d5e86f9cda1b",
      "max": 416,
      "min": 0,
      "orientation": "horizontal",
      "style": "IPY_MODEL_f9d766d45c42447eb5625655ccf313fc",
      "value": 416
     }
    },
    "b34426ef40e24f7f8592f9456472c603": {
     "model_module": "@jupyter-widgets/controls",
     "model_module_version": "1.5.0",
     "model_name": "HTMLModel",
     "state": {
      "_dom_classes": [],
      "_model_module": "@jupyter-widgets/controls",
      "_model_module_version": "1.5.0",
      "_model_name": "HTMLModel",
      "_view_count": null,
      "_view_module": "@jupyter-widgets/controls",
      "_view_module_version": "1.5.0",
      "_view_name": "HTMLView",
      "description": "",
      "description_tooltip": null,
      "layout": "IPY_MODEL_547845fccd68443f88d66ba4eaf46d76",
      "placeholder": "​",
      "style": "IPY_MODEL_0cbd4c3eb5f94ca78f9956c21d4e44f2",
      "value": "100%"
     }
    },
    "d4de2a2b84ec458aa7fb1a8b81c480f4": {
     "model_module": "@jupyter-widgets/controls",
     "model_module_version": "1.5.0",
     "model_name": "HTMLModel",
     "state": {
      "_dom_classes": [],
      "_model_module": "@jupyter-widgets/controls",
      "_model_module_version": "1.5.0",
      "_model_name": "HTMLModel",
      "_view_count": null,
      "_view_module": "@jupyter-widgets/controls",
      "_view_module_version": "1.5.0",
      "_view_name": "HTMLView",
      "description": "",
      "description_tooltip": null,
      "layout": "IPY_MODEL_85157399efd74dfdb679f4e9912b782e",
      "placeholder": "​",
      "style": "IPY_MODEL_00b73e22d7a042e6aea29cf1c1719ebf",
      "value": " 416/416 [49:32&lt;00:00,  6.71s/it]"
     }
    },
    "f9d766d45c42447eb5625655ccf313fc": {
     "model_module": "@jupyter-widgets/controls",
     "model_module_version": "1.5.0",
     "model_name": "ProgressStyleModel",
     "state": {
      "_model_module": "@jupyter-widgets/controls",
      "_model_module_version": "1.5.0",
      "_model_name": "ProgressStyleModel",
      "_view_count": null,
      "_view_module": "@jupyter-widgets/base",
      "_view_module_version": "1.2.0",
      "_view_name": "StyleView",
      "bar_color": null,
      "description_width": ""
     }
    }
   }
  }
 },
 "nbformat": 4,
 "nbformat_minor": 4
}
