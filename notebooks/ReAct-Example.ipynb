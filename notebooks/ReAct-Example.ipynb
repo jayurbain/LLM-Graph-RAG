{
 "cells": [
  {
   "cell_type": "markdown",
   "id": "a7e84064",
   "metadata": {},
   "source": [
    "# Build LLM Agent combining Reasoning and Action (ReAct) framework using LangChain "
   ]
  },
  {
   "cell_type": "markdown",
   "id": "9fff6ed1",
   "metadata": {},
   "source": [
    "ReAct is technique which enable LLMs to do reasoning and take task specific actions. It combines chain of thought reasoning with action planning.\n",
    "\n",
    "It enables LLMs to generate reasoning traces and task-specific actions, leveraging the synergy between them. This approach demonstrates superior performance over baselines in various tasks, overcoming issues like hallucination and error propagation.\n",
    "\n",
    "In the notebook we will use OPENAI ChatGPT model. \n",
    "\n",
    "We will use Langchain framework and python code for illustration purpose. You can use this code for your applications.You can also refer Langchain site for more code references. You also need to install below required python library to run the code.¶\n"
   ]
  },
  {
   "cell_type": "code",
   "execution_count": 15,
   "id": "f1edeeb0",
   "metadata": {},
   "outputs": [],
   "source": [
    "#!pip install openai langchain wikipedia"
   ]
  },
  {
   "cell_type": "code",
   "execution_count": 16,
   "id": "92609162-a5bd-4637-858e-0551231595e0",
   "metadata": {},
   "outputs": [],
   "source": [
    "import os\n",
    "OPENAI_API_KEY = \"xxx\"\n",
    "os.environ[\"OPENAI_API_KEY\"] = OPENAI_API_KEY or getpass(\"OpenAI API key: \")"
   ]
  },
  {
   "cell_type": "code",
   "execution_count": 17,
   "id": "1d31d568",
   "metadata": {},
   "outputs": [],
   "source": [
    "import openai\n",
    "import os\n",
    "openai.api_key  = os.getenv('OPENAI_API_KEY')"
   ]
  },
  {
   "cell_type": "markdown",
   "id": "42a0a4bc",
   "metadata": {},
   "source": [
    "Langchain has concept of Agent. The core idea of agent is to use a language model to choose a sequence of actions to take. \n",
    "\n",
    "In agent, a language model is used as a reasoning engine to determine which actions to take and in which order. Langchain has inbuilt agent called DocStore Explorer agent whose functionality aligns with the original ReAct research paper, for the Wikipedia use case. \n",
    "\n",
    "DocStoreExplorer agent interacts with a document storage system (like Wikipedia), using two specific tools , a Search tool and a Lookup tool. The Search tool is responsible for locating a document, whereas the Lookup tool retrieves a term from the most recently discovered document. We can initialize this doc store with Wikipedia as a document store."
   ]
  },
  {
   "cell_type": "code",
   "execution_count": 18,
   "id": "984b63a6",
   "metadata": {},
   "outputs": [],
   "source": [
    "from langchain.agents.react.base import DocstoreExplorer\n",
    "from langchain.docstore import Wikipedia\n",
    "docstore = DocstoreExplorer(Wikipedia())"
   ]
  },
  {
   "cell_type": "markdown",
   "id": "3fc6598c",
   "metadata": {},
   "source": [
    "#### Another concept which Langchain provides is called tools. Tools are interfaces that an agent can use to interact with the outer world. We can create our own tool for Wikipedia API. In the tool specification, we can specify which function agent need to call for interaction with outer world."
   ]
  },
  {
   "cell_type": "code",
   "execution_count": 19,
   "id": "00307cb6",
   "metadata": {},
   "outputs": [],
   "source": [
    "from langchain.agents import Tool \n",
    "tools = [\n",
    "    Tool(\n",
    "        name=\"Search\",\n",
    "        func=docstore.search,\n",
    "        description=\"useful for when you need to ask with search\",\n",
    "    ),\n",
    "    Tool(\n",
    "        name=\"Lookup\",\n",
    "        func=docstore.lookup,\n",
    "        description=\"useful for when you need to ask with lookup\",\n",
    "    ),\n",
    "]"
   ]
  },
  {
   "cell_type": "markdown",
   "id": "07566cdd",
   "metadata": {},
   "source": [
    "#### Lets have GPT-4 model as a LLM for our application."
   ]
  },
  {
   "cell_type": "code",
   "execution_count": 20,
   "id": "b7a09fd3",
   "metadata": {},
   "outputs": [],
   "source": [
    "from langchain.chat_models import ChatOpenAI\n",
    "llm = ChatOpenAI(model_name=\"gpt-4\")"
   ]
  },
  {
   "cell_type": "markdown",
   "id": "11256244",
   "metadata": {},
   "source": [
    "#### Lets initialize agent with tools, llm and agent with all the information."
   ]
  },
  {
   "cell_type": "code",
   "execution_count": 21,
   "id": "adc69c4a",
   "metadata": {},
   "outputs": [],
   "source": [
    "from langchain.agents import AgentType, initialize_agent\n",
    "react = initialize_agent(tools, llm, agent=AgentType.REACT_DOCSTORE, verbose=True)"
   ]
  },
  {
   "cell_type": "markdown",
   "id": "c4d9781c",
   "metadata": {},
   "source": [
    "#### We can pass our question to our ReAct agent. Behind the scene, Agent will do interaction with OPENAI model using API. It will also pass tools information (description of functions ) to the model as an additional arguments (in case of OPENAI its called OPENAI functions) with prompt. If model want to take search or lookup actions then it returns that function description with function arguments (if any) to the agent. Then agent call that function using the tool and call Model again with that information. It will do this in iterative manner as explained above. All this magic is done by agent for us."
   ]
  },
  {
   "cell_type": "code",
   "execution_count": 23,
   "id": "54138459",
   "metadata": {},
   "outputs": [
    {
     "name": "stdout",
     "output_type": "stream",
     "text": [
      "\n",
      "\n",
      "\u001b[1m> Entering new AgentExecutor chain...\u001b[0m\n",
      "\u001b[32;1m\u001b[1;3mThought: I need to search Elon Musk and Mark Zuckerberg, find their professions, then find the profession they have in common.\n",
      "Action: Search[Elon Musk]\u001b[0m\n",
      "Observation: \u001b[36;1m\u001b[1;3mCould not find [Elon Musk]. Similar: ['Elon Musk', 'Elon Musk salute controversy', 'Views of Elon Musk', 'Wealth of Elon Musk', 'Errol Musk', 'Acquisition of Twitter by Elon Musk', 'Twitter under Elon Musk', 'Political activities of Elon Musk', 'Elon Musk filmography', 'Elon Musk (disambiguation)']\u001b[0m\n",
      "Thought:\u001b[32;1m\u001b[1;3mI will instead search 'Elon Musk' to get the correct information.\n",
      "Action: Search['Elon Musk']\u001b[0m\n",
      "Observation: \u001b[36;1m\u001b[1;3mElon Reeve Musk ( EE-lon; born June 28, 1971) is a businessman known for his key roles in Tesla, SpaceX, and Twitter (which he rebranded as X). Since 2025, he has been a senior advisor to United States president Donald Trump and the de facto head of the Department of Government Efficiency (DOGE). Musk is the wealthiest person in the world; as of March 2025, Forbes estimates his net worth to be US$320 billion. \n",
      "Born to a prominent family in Pretoria, South Africa, Musk emigrated to Canada in 1989 and acquired its citizenship through his mother. He moved to the U.S. and graduated from the University of Pennsylvania before moving to California to pursue business ventures. In 1995, Musk co-founded the software company Zip2. After its sale in 1999, he co-founded X.com, an online payment company that later merged to form PayPal, which was acquired by eBay in 2002 for $1.5 billion. That year, Musk also became a U.S. citizen.\n",
      "In 2002, Musk founded SpaceX and became its CEO and chief engineer. The company has since led innovations in reusable rockets and commercial spaceflight. In 2004, Musk joined Tesla, Inc., as an early investor, and became its CEO and product architect in 2008; it has become a market leader in electric vehicles. In 2015, he co-founded OpenAI to advance artificial intelligence research, but left its board in 2018. In 2016, Musk co-founded Neuralink, a company focused on brain–computer interfaces, and in 2017 launched the Boring Company, which aims to develop tunnel transportation. Musk was named Time magazine's Person of the Year in 2021. In 2022, he acquired Twitter, implementing significant changes and rebranding it as X in 2023. In January 2025, he was appointed head of Trump's newly created DOGE.\n",
      "Musk's political activities and views have made him a polarizing figure. He has been criticized for making unscientific and misleading statements, including COVID-19 misinformation and promoting conspiracy theories. His acquisition of Twitter (now X) was controversial due to a subsequent increase in hate speech and the spread of misinformation on the service. He has engaged in political activities in several countries, including as a vocal and financial supporter of Trump. Musk was the largest donor in the 2024 U.S. presidential election and is a supporter of global far-right figures, causes, and political parties.\u001b[0m\n",
      "Thought:\u001b[32;1m\u001b[1;3mElon Musk is a businessman known for his roles in Tesla, SpaceX, and Twitter (now X). He also co-founded the software company Zip2, online payment company X.com (later PayPal), OpenAI, Neuralink, and the Boring Company. I need to search Mark Zuckerberg next and find his professions.\n",
      "Action: Search[Mark Zuckerberg]\u001b[0m\n",
      "Observation: \u001b[36;1m\u001b[1;3mMark Elliot Zuckerberg (; born May 14, 1984) is an American businessman who co-founded the social media service Facebook and its parent company Meta Platforms, of which he is the chairman, chief executive officer, and controlling shareholder. Zuckerberg has been the subject of multiple lawsuits regarding the creation and ownership of the website as well as issues such as user privacy.\n",
      "Zuckerberg briefly attended Harvard College, where he launched Facebook in February 2004 with his roommates Eduardo Saverin, Andrew McCollum, Dustin Moskovitz and Chris Hughes. Zuckerberg took the company public in May 2012 with majority shares. He became the world's youngest self-made billionaire in 2008, at age 23, and has consistently ranked among the world's wealthiest individuals. According to Forbes, as of February 2025, Zuckerberg's estimated net worth stood at US$254.1 billion, making him the second richest individual in the world, behind Elon Musk and before Jeff Bezos.\n",
      "Zuckerberg has used his funds to organize multiple large donations, including the establishment of the Chan Zuckerberg Initiative. A film depicting Zuckerberg's early career, legal troubles and initial success with Facebook, The Social Network, was released in 2010 and won multiple Academy Awards. His prominence and fast rise in the technology industry has prompted political and legal attention.\u001b[0m\n",
      "Thought:\u001b[32;1m\u001b[1;3mMark Zuckerberg is a businessman who co-founded Facebook and its parent company Meta Platforms. So the profession Elon Musk and Mark Zuckerberg have in common is that they are both businessmen.\n",
      "Action: Finish[Businessman]\u001b[0m\n",
      "\n",
      "\u001b[1m> Finished chain.\u001b[0m\n"
     ]
    }
   ],
   "source": [
    "question = \"What profession does Elon Musk and Mark Zuckerburg have in common?\"\n",
    "result = react.run(question)"
   ]
  },
  {
   "cell_type": "markdown",
   "id": "d6e150dc",
   "metadata": {},
   "source": [
    "#### We can finally get the answer"
   ]
  },
  {
   "cell_type": "code",
   "execution_count": 24,
   "id": "b2d094a0",
   "metadata": {},
   "outputs": [
    {
     "data": {
      "text/plain": [
       "'Businessman'"
      ]
     },
     "execution_count": 24,
     "metadata": {},
     "output_type": "execute_result"
    }
   ],
   "source": [
    "result"
   ]
  },
  {
   "cell_type": "code",
   "execution_count": null,
   "id": "6e1d3749",
   "metadata": {},
   "outputs": [],
   "source": []
  }
 ],
 "metadata": {
  "kernelspec": {
   "display_name": "Python 3 (ipykernel)",
   "language": "python",
   "name": "python3"
  },
  "language_info": {
   "codemirror_mode": {
    "name": "ipython",
    "version": 3
   },
   "file_extension": ".py",
   "mimetype": "text/x-python",
   "name": "python",
   "nbconvert_exporter": "python",
   "pygments_lexer": "ipython3",
   "version": "3.12.2"
  }
 },
 "nbformat": 4,
 "nbformat_minor": 5
}
